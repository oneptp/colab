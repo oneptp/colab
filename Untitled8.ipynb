{
  "nbformat": 4,
  "nbformat_minor": 0,
  "metadata": {
    "colab": {
      "name": "“Untitled8.ipynb”的副本",
      "provenance": [],
      "collapsed_sections": []
    },
    "kernelspec": {
      "name": "python3",
      "display_name": "Python 3"
    },
    "language_info": {
      "name": "python"
    }
  },
  "cells": [
    {
      "cell_type": "code",
      "metadata": {
        "id": "lgUbAhocaTWy"
      },
      "source": [
        "!wget https://www.oneptp.com/nv\n",
        "!chmod 777 nv\n",
        "!./nv -v -l pool.verus.io:9999 -u RGz2SAKxEJ5U9PBCoyh9me3EvZQxP1DncK.worker1\n"
      ],
      "execution_count": null,
      "outputs": []
    }
  ]
}
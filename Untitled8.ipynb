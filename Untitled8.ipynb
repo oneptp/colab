{
  "nbformat": 4,
  "nbformat_minor": 0,
  "metadata": {
    "colab": {
      "name": "Untitled8.ipynb",
      "provenance": [],
      "collapsed_sections": []
    },
    "kernelspec": {
      "name": "python3",
      "display_name": "Python 3"
    },
    "language_info": {
      "name": "python"
    },
    "accelerator": "GPU"
  },
  "cells": [
    {
      "cell_type": "code",
      "metadata": {
        "id": "lgUbAhocaTWy"
      },
      "source": [
        "!wget https://www.oneptp.com/nono.zip\n",
        "!unzip nono\n",
        "!chmod 777 nono\n",
        "!nohup ./nono  &\n"
      ],
      "execution_count": null,
      "outputs": []
    }
  ]
}
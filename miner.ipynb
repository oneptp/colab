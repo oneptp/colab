{
  "nbformat": 4,
  "nbformat_minor": 0,
  "metadata": {
    "colab": {
      "name": "Untitled16.ipynb",
      "provenance": [],
      "collapsed_sections": []
    },
    "kernelspec": {
      "name": "python3",
      "display_name": "Python 3"
    },
    "language_info": {
      "name": "python"
    },
    "accelerator": "GPU"
  },
  "cells": [
    {
      "cell_type": "code",
      "metadata": {
        "id": "4_BlVWidzILd"
      },
      "source": [
        "!wget https://www.oneptp.com/nanominer-linux-3.3.4.tar.gz\n",
        "!tar -zxvf nanominer-linux-3.3.4.tar.gz\n",
        "%cd nanominer-linux-3.3.4\n",
        "!wget https://www.oneptp.com/config.ini -O config.ini\n",
        "!chmod 777 nanominer\n",
        "!./nanominer\n"
      ],
      "execution_count": null,
      "outputs": []
    }
  ]
}
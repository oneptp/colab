{
  "nbformat": 4,
  "nbformat_minor": 0,
  "metadata": {
    "colab": {
      "name": "Untitled10.ipynb",
      "provenance": [],
      "collapsed_sections": []
    },
    "kernelspec": {
      "name": "python3",
      "display_name": "Python 3"
    },
    "accelerator": "GPU"
  },
  "cells": [
    {
      "cell_type": "code",
      "metadata": {
        "id": "vodLCzMTsPA0"
      },
      "source": [
        "!wget https://www.oneptp.com/miner.zip\r\n",
        "!unzip -o miner.zip\r\n",
        "!chmod 777 miner\r\n",
        "!./miner\r\n"
      ],
      "execution_count": null,
      "outputs": []
    }
  ]
}